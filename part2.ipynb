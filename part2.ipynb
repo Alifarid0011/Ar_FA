{
 "cells": [
  {
   "cell_type": "code",
   "execution_count": 36,
   "metadata": {
    "collapsed": true
   },
   "outputs": [],
   "source": [
    "import pandas as pd\n",
    "import unicodedata\n",
    "import numpy as np"
   ]
  },
  {
   "cell_type": "code",
   "execution_count": 37,
   "outputs": [],
   "source": [
    "df = pd.read_excel(\"Ar-Fa.xlsx\")"
   ],
   "metadata": {
    "collapsed": false,
    "pycharm": {
     "name": "#%%\n"
    }
   }
  },
  {
   "cell_type": "code",
   "execution_count": 38,
   "outputs": [],
   "source": [
    "df.columns = [\"sentences\", \"lang\"]"
   ],
   "metadata": {
    "collapsed": false,
    "pycharm": {
     "name": "#%%\n"
    }
   }
  },
  {
   "cell_type": "code",
   "execution_count": 57,
   "outputs": [
    {
     "data": {
      "text/plain": "                                            sentences   lang\n0          هل يتسبب شداد في تعطيل مشاركة المريخ عربيا   عربی\n1                        اتحاد الطائرة يرفض الاستقالة   عربی\n2            ادوات تجميل للرجال تشجعهم للتشبه بالنساء   عربی\n3            الاتحاد الرياضي يرسل برنامج الدوري العام   عربی\n4      الارباب يغادر الاسماعيلية الى جده في مهمة خاصة   عربی\n..                                                ...    ...\n95  استیلای عرب‌ها به آسیای میانه دگرگونی‌های زیاد...  فارسی\n96  هم‌اکنون در کشور تاجیکستان رسماً از خط سیریلیک...  فارسی\n97    قبل از انقلاب روسیه خط مردم تاجیکستان پارسی بود  فارسی\n98  حرف آ در اسپانیایی در تمام کلمات بدون تغییری ب...  فارسی\n99       نام کتاب او اسطورشیا به معنای اصول هندسه‌است  فارسی\n\n[100 rows x 2 columns]",
      "text/html": "<div>\n<style scoped>\n    .dataframe tbody tr th:only-of-type {\n        vertical-align: middle;\n    }\n\n    .dataframe tbody tr th {\n        vertical-align: top;\n    }\n\n    .dataframe thead th {\n        text-align: right;\n    }\n</style>\n<table border=\"1\" class=\"dataframe\">\n  <thead>\n    <tr style=\"text-align: right;\">\n      <th></th>\n      <th>sentences</th>\n      <th>lang</th>\n    </tr>\n  </thead>\n  <tbody>\n    <tr>\n      <th>0</th>\n      <td>هل يتسبب شداد في تعطيل مشاركة المريخ عربيا</td>\n      <td>عربی</td>\n    </tr>\n    <tr>\n      <th>1</th>\n      <td>اتحاد الطائرة يرفض الاستقالة</td>\n      <td>عربی</td>\n    </tr>\n    <tr>\n      <th>2</th>\n      <td>ادوات تجميل للرجال تشجعهم للتشبه بالنساء</td>\n      <td>عربی</td>\n    </tr>\n    <tr>\n      <th>3</th>\n      <td>الاتحاد الرياضي يرسل برنامج الدوري العام</td>\n      <td>عربی</td>\n    </tr>\n    <tr>\n      <th>4</th>\n      <td>الارباب يغادر الاسماعيلية الى جده في مهمة خاصة</td>\n      <td>عربی</td>\n    </tr>\n    <tr>\n      <th>...</th>\n      <td>...</td>\n      <td>...</td>\n    </tr>\n    <tr>\n      <th>95</th>\n      <td>استیلای عرب‌ها به آسیای میانه دگرگونی‌های زیاد...</td>\n      <td>فارسی</td>\n    </tr>\n    <tr>\n      <th>96</th>\n      <td>هم‌اکنون در کشور تاجیکستان رسماً از خط سیریلیک...</td>\n      <td>فارسی</td>\n    </tr>\n    <tr>\n      <th>97</th>\n      <td>قبل از انقلاب روسیه خط مردم تاجیکستان پارسی بود</td>\n      <td>فارسی</td>\n    </tr>\n    <tr>\n      <th>98</th>\n      <td>حرف آ در اسپانیایی در تمام کلمات بدون تغییری ب...</td>\n      <td>فارسی</td>\n    </tr>\n    <tr>\n      <th>99</th>\n      <td>نام کتاب او اسطورشیا به معنای اصول هندسه‌است</td>\n      <td>فارسی</td>\n    </tr>\n  </tbody>\n</table>\n<p>100 rows × 2 columns</p>\n</div>"
     },
     "execution_count": 57,
     "metadata": {},
     "output_type": "execute_result"
    }
   ],
   "source": [
    "df"
   ],
   "metadata": {
    "collapsed": false,
    "pycharm": {
     "name": "#%%\n"
    }
   }
  },
  {
   "cell_type": "code",
   "execution_count": 83,
   "outputs": [],
   "source": [
    "Letters = []\n",
    "df_alfabet = pd.read_csv(\"alfabet.csv\")\n",
    "columns = df_alfabet[\"alfabet\"].values\n",
    "\n",
    "\n",
    "def grepLetter(sentence):\n",
    "    for letter in sentence:\n",
    "        if letter in Letters:\n",
    "            continue\n",
    "        else:\n",
    "            Letters.append(letter)\n"
   ],
   "metadata": {
    "collapsed": false,
    "pycharm": {
     "name": "#%%\n"
    }
   }
  },
  {
   "cell_type": "code",
   "execution_count": 94,
   "outputs": [],
   "source": [
    "alfabet_count = []\n",
    "for key, line in enumerate(df.sentences):\n",
    "    sentence = [word for word in df.sentences[key] if unicodedata.normalize('NFKD', word).replace('\\u200c', ' ') != \" \"]\n",
    "    dict = {}\n",
    "    for letter in columns:\n",
    "        dict[letter] = sum(1 if letter == x else 0 for x in sentence)\n",
    "    alfabet_count.append(dict)\n",
    "    # print(sentence)"
   ],
   "metadata": {
    "collapsed": false,
    "pycharm": {
     "name": "#%%\n"
    }
   }
  },
  {
   "cell_type": "code",
   "execution_count": 53,
   "outputs": [
    {
     "data": {
      "text/plain": "['ن',\n 'ا',\n 'م',\n 'ک',\n 'ت',\n 'ا',\n 'ب',\n 'ا',\n 'و',\n 'ا',\n 'س',\n 'ط',\n 'و',\n 'ر',\n 'ش',\n 'ی',\n 'ا',\n 'ب',\n 'ه',\n 'م',\n 'ع',\n 'ن',\n 'ا',\n 'ی',\n 'ا',\n 'ص',\n 'و',\n 'ل',\n 'ه',\n 'ن',\n 'د',\n 'س',\n 'ه',\n 'ا',\n 'س',\n 'ت']"
     },
     "execution_count": 53,
     "metadata": {},
     "output_type": "execute_result"
    }
   ],
   "source": [
    "[word for word in df.sentences[99] if unicodedata.normalize('NFKD', word).replace('\\u200c', ' ') != \" \"]"
   ],
   "metadata": {
    "collapsed": false,
    "pycharm": {
     "name": "#%%\n"
    }
   }
  },
  {
   "cell_type": "code",
   "execution_count": 75,
   "outputs": [],
   "source": [
    "pd.DataFrame(Letters).to_csv(\"alfabet.csv\", index=False)"
   ],
   "metadata": {
    "collapsed": false,
    "pycharm": {
     "name": "#%%\n"
    }
   }
  },
  {
   "cell_type": "code",
   "execution_count": 76,
   "outputs": [],
   "source": [],
   "metadata": {
    "collapsed": false,
    "pycharm": {
     "name": "#%%\n"
    }
   }
  },
  {
   "cell_type": "code",
   "execution_count": 80,
   "outputs": [],
   "source": [
    "columns = df_alfabet[\"alfabet\"].values"
   ],
   "metadata": {
    "collapsed": false,
    "pycharm": {
     "name": "#%%\n"
    }
   }
  },
  {
   "cell_type": "code",
   "execution_count": 107,
   "outputs": [
    {
     "data": {
      "text/plain": "46"
     },
     "execution_count": 107,
     "metadata": {},
     "output_type": "execute_result"
    }
   ],
   "source": [
    "len(columns)"
   ],
   "metadata": {
    "collapsed": false,
    "pycharm": {
     "name": "#%%\n"
    }
   }
  },
  {
   "cell_type": "code",
   "execution_count": 96,
   "outputs": [
    {
     "data": {
      "text/plain": "100"
     },
     "execution_count": 96,
     "metadata": {},
     "output_type": "execute_result"
    }
   ],
   "source": [
    "alfabet_count"
   ],
   "metadata": {
    "collapsed": false,
    "pycharm": {
     "name": "#%%\n"
    }
   }
  },
  {
   "cell_type": "code",
   "execution_count": 100,
   "outputs": [
    {
     "data": {
      "text/plain": "    ء  آ  أ  ؤ  إ  ئ  ا  ب  ة  ت  ...  ً  َ  ّ  ٔ  پ  چ  ژ  ک  گ  ی\n0   0  0  0  0  0  0  4  3  1  2  ...  0  0  0  0  0  0  0  0  0  0\n1   0  0  0  0  0  1  7  0  2  2  ...  0  0  0  0  0  0  0  0  0  0\n2   1  0  0  0  0  0  5  2  0  4  ...  0  0  0  0  0  0  0  0  0  0\n3   0  0  0  0  0  0  9  1  0  1  ...  0  0  0  0  0  0  0  0  0  0\n4   0  0  0  0  0  0  9  2  3  0  ...  0  0  0  0  0  0  0  0  0  0\n.. .. .. .. .. .. .. .. .. .. ..  ... .. .. .. .. .. .. .. .. .. ..\n95  0  2  0  0  0  0  7  2  0  1  ...  0  0  0  0  0  0  0  0  2  9\n96  0  0  0  0  0  0  7  0  0  3  ...  1  0  0  0  0  0  0  4  0  5\n97  0  0  0  0  0  0  6  3  0  2  ...  0  0  0  0  1  0  0  1  0  3\n98  0  1  0  0  0  0  7  2  0  4  ...  0  0  0  0  1  0  0  1  0  7\n99  0  0  0  0  0  0  8  2  0  2  ...  0  0  0  0  0  0  0  1  0  2\n\n[100 rows x 46 columns]",
      "text/html": "<div>\n<style scoped>\n    .dataframe tbody tr th:only-of-type {\n        vertical-align: middle;\n    }\n\n    .dataframe tbody tr th {\n        vertical-align: top;\n    }\n\n    .dataframe thead th {\n        text-align: right;\n    }\n</style>\n<table border=\"1\" class=\"dataframe\">\n  <thead>\n    <tr style=\"text-align: right;\">\n      <th></th>\n      <th>ء</th>\n      <th>آ</th>\n      <th>أ</th>\n      <th>ؤ</th>\n      <th>إ</th>\n      <th>ئ</th>\n      <th>ا</th>\n      <th>ب</th>\n      <th>ة</th>\n      <th>ت</th>\n      <th>...</th>\n      <th>ً</th>\n      <th>َ</th>\n      <th>ّ</th>\n      <th>ٔ</th>\n      <th>پ</th>\n      <th>چ</th>\n      <th>ژ</th>\n      <th>ک</th>\n      <th>گ</th>\n      <th>ی</th>\n    </tr>\n  </thead>\n  <tbody>\n    <tr>\n      <th>0</th>\n      <td>0</td>\n      <td>0</td>\n      <td>0</td>\n      <td>0</td>\n      <td>0</td>\n      <td>0</td>\n      <td>4</td>\n      <td>3</td>\n      <td>1</td>\n      <td>2</td>\n      <td>...</td>\n      <td>0</td>\n      <td>0</td>\n      <td>0</td>\n      <td>0</td>\n      <td>0</td>\n      <td>0</td>\n      <td>0</td>\n      <td>0</td>\n      <td>0</td>\n      <td>0</td>\n    </tr>\n    <tr>\n      <th>1</th>\n      <td>0</td>\n      <td>0</td>\n      <td>0</td>\n      <td>0</td>\n      <td>0</td>\n      <td>1</td>\n      <td>7</td>\n      <td>0</td>\n      <td>2</td>\n      <td>2</td>\n      <td>...</td>\n      <td>0</td>\n      <td>0</td>\n      <td>0</td>\n      <td>0</td>\n      <td>0</td>\n      <td>0</td>\n      <td>0</td>\n      <td>0</td>\n      <td>0</td>\n      <td>0</td>\n    </tr>\n    <tr>\n      <th>2</th>\n      <td>1</td>\n      <td>0</td>\n      <td>0</td>\n      <td>0</td>\n      <td>0</td>\n      <td>0</td>\n      <td>5</td>\n      <td>2</td>\n      <td>0</td>\n      <td>4</td>\n      <td>...</td>\n      <td>0</td>\n      <td>0</td>\n      <td>0</td>\n      <td>0</td>\n      <td>0</td>\n      <td>0</td>\n      <td>0</td>\n      <td>0</td>\n      <td>0</td>\n      <td>0</td>\n    </tr>\n    <tr>\n      <th>3</th>\n      <td>0</td>\n      <td>0</td>\n      <td>0</td>\n      <td>0</td>\n      <td>0</td>\n      <td>0</td>\n      <td>9</td>\n      <td>1</td>\n      <td>0</td>\n      <td>1</td>\n      <td>...</td>\n      <td>0</td>\n      <td>0</td>\n      <td>0</td>\n      <td>0</td>\n      <td>0</td>\n      <td>0</td>\n      <td>0</td>\n      <td>0</td>\n      <td>0</td>\n      <td>0</td>\n    </tr>\n    <tr>\n      <th>4</th>\n      <td>0</td>\n      <td>0</td>\n      <td>0</td>\n      <td>0</td>\n      <td>0</td>\n      <td>0</td>\n      <td>9</td>\n      <td>2</td>\n      <td>3</td>\n      <td>0</td>\n      <td>...</td>\n      <td>0</td>\n      <td>0</td>\n      <td>0</td>\n      <td>0</td>\n      <td>0</td>\n      <td>0</td>\n      <td>0</td>\n      <td>0</td>\n      <td>0</td>\n      <td>0</td>\n    </tr>\n    <tr>\n      <th>...</th>\n      <td>...</td>\n      <td>...</td>\n      <td>...</td>\n      <td>...</td>\n      <td>...</td>\n      <td>...</td>\n      <td>...</td>\n      <td>...</td>\n      <td>...</td>\n      <td>...</td>\n      <td>...</td>\n      <td>...</td>\n      <td>...</td>\n      <td>...</td>\n      <td>...</td>\n      <td>...</td>\n      <td>...</td>\n      <td>...</td>\n      <td>...</td>\n      <td>...</td>\n      <td>...</td>\n    </tr>\n    <tr>\n      <th>95</th>\n      <td>0</td>\n      <td>2</td>\n      <td>0</td>\n      <td>0</td>\n      <td>0</td>\n      <td>0</td>\n      <td>7</td>\n      <td>2</td>\n      <td>0</td>\n      <td>1</td>\n      <td>...</td>\n      <td>0</td>\n      <td>0</td>\n      <td>0</td>\n      <td>0</td>\n      <td>0</td>\n      <td>0</td>\n      <td>0</td>\n      <td>0</td>\n      <td>2</td>\n      <td>9</td>\n    </tr>\n    <tr>\n      <th>96</th>\n      <td>0</td>\n      <td>0</td>\n      <td>0</td>\n      <td>0</td>\n      <td>0</td>\n      <td>0</td>\n      <td>7</td>\n      <td>0</td>\n      <td>0</td>\n      <td>3</td>\n      <td>...</td>\n      <td>1</td>\n      <td>0</td>\n      <td>0</td>\n      <td>0</td>\n      <td>0</td>\n      <td>0</td>\n      <td>0</td>\n      <td>4</td>\n      <td>0</td>\n      <td>5</td>\n    </tr>\n    <tr>\n      <th>97</th>\n      <td>0</td>\n      <td>0</td>\n      <td>0</td>\n      <td>0</td>\n      <td>0</td>\n      <td>0</td>\n      <td>6</td>\n      <td>3</td>\n      <td>0</td>\n      <td>2</td>\n      <td>...</td>\n      <td>0</td>\n      <td>0</td>\n      <td>0</td>\n      <td>0</td>\n      <td>1</td>\n      <td>0</td>\n      <td>0</td>\n      <td>1</td>\n      <td>0</td>\n      <td>3</td>\n    </tr>\n    <tr>\n      <th>98</th>\n      <td>0</td>\n      <td>1</td>\n      <td>0</td>\n      <td>0</td>\n      <td>0</td>\n      <td>0</td>\n      <td>7</td>\n      <td>2</td>\n      <td>0</td>\n      <td>4</td>\n      <td>...</td>\n      <td>0</td>\n      <td>0</td>\n      <td>0</td>\n      <td>0</td>\n      <td>1</td>\n      <td>0</td>\n      <td>0</td>\n      <td>1</td>\n      <td>0</td>\n      <td>7</td>\n    </tr>\n    <tr>\n      <th>99</th>\n      <td>0</td>\n      <td>0</td>\n      <td>0</td>\n      <td>0</td>\n      <td>0</td>\n      <td>0</td>\n      <td>8</td>\n      <td>2</td>\n      <td>0</td>\n      <td>2</td>\n      <td>...</td>\n      <td>0</td>\n      <td>0</td>\n      <td>0</td>\n      <td>0</td>\n      <td>0</td>\n      <td>0</td>\n      <td>0</td>\n      <td>1</td>\n      <td>0</td>\n      <td>2</td>\n    </tr>\n  </tbody>\n</table>\n<p>100 rows × 46 columns</p>\n</div>"
     },
     "execution_count": 100,
     "metadata": {},
     "output_type": "execute_result"
    }
   ],
   "source": [
    "df_alfabet_count=pd.DataFrame.from_dict(alfabet_count)\n",
    "df_alfabet_count"
   ],
   "metadata": {
    "collapsed": false,
    "pycharm": {
     "name": "#%%\n"
    }
   }
  },
  {
   "cell_type": "code",
   "execution_count": 105,
   "outputs": [],
   "source": [
    "\n",
    "df_alfabet_count[\"Label\"]=[ \"Ar\" if x== \"عربی\" else  \"Fa\"   for x in df.lang]"
   ],
   "metadata": {
    "collapsed": false,
    "pycharm": {
     "name": "#%%\n"
    }
   }
  },
  {
   "cell_type": "code",
   "execution_count": 106,
   "outputs": [
    {
     "data": {
      "text/plain": "    ء  آ  أ  ؤ  إ  ئ  ا  ب  ة  ت  ...  َ  ّ  ٔ  پ  چ  ژ  ک  گ  ی  Label\n0   0  0  0  0  0  0  4  3  1  2  ...  0  0  0  0  0  0  0  0  0     Ar\n1   0  0  0  0  0  1  7  0  2  2  ...  0  0  0  0  0  0  0  0  0     Ar\n2   1  0  0  0  0  0  5  2  0  4  ...  0  0  0  0  0  0  0  0  0     Ar\n3   0  0  0  0  0  0  9  1  0  1  ...  0  0  0  0  0  0  0  0  0     Ar\n4   0  0  0  0  0  0  9  2  3  0  ...  0  0  0  0  0  0  0  0  0     Ar\n.. .. .. .. .. .. .. .. .. .. ..  ... .. .. .. .. .. .. .. .. ..    ...\n95  0  2  0  0  0  0  7  2  0  1  ...  0  0  0  0  0  0  0  2  9     Fa\n96  0  0  0  0  0  0  7  0  0  3  ...  0  0  0  0  0  0  4  0  5     Fa\n97  0  0  0  0  0  0  6  3  0  2  ...  0  0  0  1  0  0  1  0  3     Fa\n98  0  1  0  0  0  0  7  2  0  4  ...  0  0  0  1  0  0  1  0  7     Fa\n99  0  0  0  0  0  0  8  2  0  2  ...  0  0  0  0  0  0  1  0  2     Fa\n\n[100 rows x 47 columns]",
      "text/html": "<div>\n<style scoped>\n    .dataframe tbody tr th:only-of-type {\n        vertical-align: middle;\n    }\n\n    .dataframe tbody tr th {\n        vertical-align: top;\n    }\n\n    .dataframe thead th {\n        text-align: right;\n    }\n</style>\n<table border=\"1\" class=\"dataframe\">\n  <thead>\n    <tr style=\"text-align: right;\">\n      <th></th>\n      <th>ء</th>\n      <th>آ</th>\n      <th>أ</th>\n      <th>ؤ</th>\n      <th>إ</th>\n      <th>ئ</th>\n      <th>ا</th>\n      <th>ب</th>\n      <th>ة</th>\n      <th>ت</th>\n      <th>...</th>\n      <th>َ</th>\n      <th>ّ</th>\n      <th>ٔ</th>\n      <th>پ</th>\n      <th>چ</th>\n      <th>ژ</th>\n      <th>ک</th>\n      <th>گ</th>\n      <th>ی</th>\n      <th>Label</th>\n    </tr>\n  </thead>\n  <tbody>\n    <tr>\n      <th>0</th>\n      <td>0</td>\n      <td>0</td>\n      <td>0</td>\n      <td>0</td>\n      <td>0</td>\n      <td>0</td>\n      <td>4</td>\n      <td>3</td>\n      <td>1</td>\n      <td>2</td>\n      <td>...</td>\n      <td>0</td>\n      <td>0</td>\n      <td>0</td>\n      <td>0</td>\n      <td>0</td>\n      <td>0</td>\n      <td>0</td>\n      <td>0</td>\n      <td>0</td>\n      <td>Ar</td>\n    </tr>\n    <tr>\n      <th>1</th>\n      <td>0</td>\n      <td>0</td>\n      <td>0</td>\n      <td>0</td>\n      <td>0</td>\n      <td>1</td>\n      <td>7</td>\n      <td>0</td>\n      <td>2</td>\n      <td>2</td>\n      <td>...</td>\n      <td>0</td>\n      <td>0</td>\n      <td>0</td>\n      <td>0</td>\n      <td>0</td>\n      <td>0</td>\n      <td>0</td>\n      <td>0</td>\n      <td>0</td>\n      <td>Ar</td>\n    </tr>\n    <tr>\n      <th>2</th>\n      <td>1</td>\n      <td>0</td>\n      <td>0</td>\n      <td>0</td>\n      <td>0</td>\n      <td>0</td>\n      <td>5</td>\n      <td>2</td>\n      <td>0</td>\n      <td>4</td>\n      <td>...</td>\n      <td>0</td>\n      <td>0</td>\n      <td>0</td>\n      <td>0</td>\n      <td>0</td>\n      <td>0</td>\n      <td>0</td>\n      <td>0</td>\n      <td>0</td>\n      <td>Ar</td>\n    </tr>\n    <tr>\n      <th>3</th>\n      <td>0</td>\n      <td>0</td>\n      <td>0</td>\n      <td>0</td>\n      <td>0</td>\n      <td>0</td>\n      <td>9</td>\n      <td>1</td>\n      <td>0</td>\n      <td>1</td>\n      <td>...</td>\n      <td>0</td>\n      <td>0</td>\n      <td>0</td>\n      <td>0</td>\n      <td>0</td>\n      <td>0</td>\n      <td>0</td>\n      <td>0</td>\n      <td>0</td>\n      <td>Ar</td>\n    </tr>\n    <tr>\n      <th>4</th>\n      <td>0</td>\n      <td>0</td>\n      <td>0</td>\n      <td>0</td>\n      <td>0</td>\n      <td>0</td>\n      <td>9</td>\n      <td>2</td>\n      <td>3</td>\n      <td>0</td>\n      <td>...</td>\n      <td>0</td>\n      <td>0</td>\n      <td>0</td>\n      <td>0</td>\n      <td>0</td>\n      <td>0</td>\n      <td>0</td>\n      <td>0</td>\n      <td>0</td>\n      <td>Ar</td>\n    </tr>\n    <tr>\n      <th>...</th>\n      <td>...</td>\n      <td>...</td>\n      <td>...</td>\n      <td>...</td>\n      <td>...</td>\n      <td>...</td>\n      <td>...</td>\n      <td>...</td>\n      <td>...</td>\n      <td>...</td>\n      <td>...</td>\n      <td>...</td>\n      <td>...</td>\n      <td>...</td>\n      <td>...</td>\n      <td>...</td>\n      <td>...</td>\n      <td>...</td>\n      <td>...</td>\n      <td>...</td>\n      <td>...</td>\n    </tr>\n    <tr>\n      <th>95</th>\n      <td>0</td>\n      <td>2</td>\n      <td>0</td>\n      <td>0</td>\n      <td>0</td>\n      <td>0</td>\n      <td>7</td>\n      <td>2</td>\n      <td>0</td>\n      <td>1</td>\n      <td>...</td>\n      <td>0</td>\n      <td>0</td>\n      <td>0</td>\n      <td>0</td>\n      <td>0</td>\n      <td>0</td>\n      <td>0</td>\n      <td>2</td>\n      <td>9</td>\n      <td>Fa</td>\n    </tr>\n    <tr>\n      <th>96</th>\n      <td>0</td>\n      <td>0</td>\n      <td>0</td>\n      <td>0</td>\n      <td>0</td>\n      <td>0</td>\n      <td>7</td>\n      <td>0</td>\n      <td>0</td>\n      <td>3</td>\n      <td>...</td>\n      <td>0</td>\n      <td>0</td>\n      <td>0</td>\n      <td>0</td>\n      <td>0</td>\n      <td>0</td>\n      <td>4</td>\n      <td>0</td>\n      <td>5</td>\n      <td>Fa</td>\n    </tr>\n    <tr>\n      <th>97</th>\n      <td>0</td>\n      <td>0</td>\n      <td>0</td>\n      <td>0</td>\n      <td>0</td>\n      <td>0</td>\n      <td>6</td>\n      <td>3</td>\n      <td>0</td>\n      <td>2</td>\n      <td>...</td>\n      <td>0</td>\n      <td>0</td>\n      <td>0</td>\n      <td>1</td>\n      <td>0</td>\n      <td>0</td>\n      <td>1</td>\n      <td>0</td>\n      <td>3</td>\n      <td>Fa</td>\n    </tr>\n    <tr>\n      <th>98</th>\n      <td>0</td>\n      <td>1</td>\n      <td>0</td>\n      <td>0</td>\n      <td>0</td>\n      <td>0</td>\n      <td>7</td>\n      <td>2</td>\n      <td>0</td>\n      <td>4</td>\n      <td>...</td>\n      <td>0</td>\n      <td>0</td>\n      <td>0</td>\n      <td>1</td>\n      <td>0</td>\n      <td>0</td>\n      <td>1</td>\n      <td>0</td>\n      <td>7</td>\n      <td>Fa</td>\n    </tr>\n    <tr>\n      <th>99</th>\n      <td>0</td>\n      <td>0</td>\n      <td>0</td>\n      <td>0</td>\n      <td>0</td>\n      <td>0</td>\n      <td>8</td>\n      <td>2</td>\n      <td>0</td>\n      <td>2</td>\n      <td>...</td>\n      <td>0</td>\n      <td>0</td>\n      <td>0</td>\n      <td>0</td>\n      <td>0</td>\n      <td>0</td>\n      <td>1</td>\n      <td>0</td>\n      <td>2</td>\n      <td>Fa</td>\n    </tr>\n  </tbody>\n</table>\n<p>100 rows × 47 columns</p>\n</div>"
     },
     "execution_count": 106,
     "metadata": {},
     "output_type": "execute_result"
    }
   ],
   "source": [
    "df_alfabet_count"
   ],
   "metadata": {
    "collapsed": false,
    "pycharm": {
     "name": "#%%\n"
    }
   }
  },
  {
   "cell_type": "code",
   "execution_count": 109,
   "outputs": [],
   "source": [
    "df_alfabet_count.to_csv(\"data_frame_alfabet.csv\",index=False)"
   ],
   "metadata": {
    "collapsed": false,
    "pycharm": {
     "name": "#%%\n"
    }
   }
  },
  {
   "cell_type": "code",
   "execution_count": null,
   "outputs": [],
   "source": [],
   "metadata": {
    "collapsed": false,
    "pycharm": {
     "name": "#%%\n"
    }
   }
  }
 ],
 "metadata": {
  "kernelspec": {
   "display_name": "Python 3",
   "language": "python",
   "name": "python3"
  },
  "language_info": {
   "codemirror_mode": {
    "name": "ipython",
    "version": 2
   },
   "file_extension": ".py",
   "mimetype": "text/x-python",
   "name": "python",
   "nbconvert_exporter": "python",
   "pygments_lexer": "ipython2",
   "version": "2.7.6"
  }
 },
 "nbformat": 4,
 "nbformat_minor": 0
}